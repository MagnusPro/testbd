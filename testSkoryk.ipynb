{
 "cells": [
  {
   "cell_type": "markdown",
   "metadata": {},
   "source": [
    "# DataRoot University DS100 Test #3\n",
    "На проходження тесту виділяється 121 хвилина."
   ]
  },
  {
   "cell_type": "markdown",
   "metadata": {},
   "source": [
    "## SQL"
   ]
  },
  {
   "cell_type": "markdown",
   "metadata": {},
   "source": [
    "##### Відповідь до кожного завдання у цьому розділі записувати в наступну пусту строку в форматі sql запиту"
   ]
  },
  {
   "cell_type": "markdown",
   "metadata": {},
   "source": [
    "### Коротка інформація про базу даних \"Комп'ютерна фірма\":\n",
    "```\n",
    "Схема БД складається з чотирьох таблиць:\n",
    "- Product (maker, model, type)\n",
    "- PC (code, model, speed, ram, hd, cd, price)\n",
    "- Laptop (code, model, speed, ram, hd, price, screen)\n",
    "- Printer (code, model, color, type, price)\n",
    "```\n",
    "Таблиця Product представляє виробника (maker), номер моделі (model) і тип ('PC' - ПК, 'Laptop' - ПК-блокнот або 'Printer' - принтер). Передбачається, що номери моделей в таблиці Product унікальні для всіх виробників і типів продуктів.\n",
    "\n",
    "У таблиці PC для кожного ПК, який однозначно визначається унікальним кодом - code, вказані модель - model (зовнішній ключ до таблиці Product), швидкість - speed (процесора в мегагерцах), обсяг пам'яті - ram (в мегабайтах), розмір диска - hd (в гігабайтах), швидкість пристрою, що зчитує - cd (наприклад, '4x') і ціна - price.\n",
    "\n",
    "Таблиця Laptop аналогічна таблиці РС за винятком того, що замість швидкості CD містить розмір екрану - screen (в дюймах).\n",
    "\n",
    "У таблиці Printer для кожної моделі принтера вказується, чи є він кольоровим - color ( 'y', якщо кольоровий), тип принтера - type (лазерний - 'Laser', струменевий - 'Jet' або матричний - 'Matrix') і ціна - price.\n",
    "\n",
    "**Дамп**: **[computer_pg_script.sql](https://github.com/dataroot/DRU-DS100-w3/tree/master/tests/3/v1/computer_pg_script.sql)**."
   ]
  },
  {
   "cell_type": "markdown",
   "metadata": {
    "collapsed": true
   },
   "source": [
    "### 1. Знайдіть номер моделі, швидкість і розмір жорсткого диску для всіх ПК вартістю менше 500 дол. Вивести: model, speed і hd.\n",
    "```\n",
    "```\n",
    "Довідка по темі:\n",
    "* [Простий оператор SELECT](http://www.sql-tutorial.ru/ru/book_simple_select_statement/page1.html)\n",
    "```\n",
    "```\n",
    "```\n",
    "```\n",
    "```\n",
    "```\n",
    "```\n",
    "Максимальна оцінка: 1 бал\n",
    "Рекомендований час: 3хв\n",
    "```"
   ]
  },
  {
   "cell_type": "code",
   "execution_count": null,
   "metadata": {
    "collapsed": true
   },
   "outputs": [],
   "source": [
    "SELECT model, speed, hd\n",
    "FROM pc\n",
    "WHERE price < 500"
   ]
  },
  {
   "cell_type": "markdown",
   "metadata": {},
   "source": [
    "### 2.  Знайдіть виробників принтерів. Вивести: maker.\n",
    "```\n",
    "```\n",
    "Довідка по темі:\n",
    "* [Простий оператор SELECT](http://www.sql-tutorial.ru/ru/book_simple_select_statement/page1.html)\n",
    "```\n",
    "```\n",
    "```\n",
    "```\n",
    "```\n",
    "```\n",
    "```\n",
    "Максимальна оцінка: 1 бал\n",
    "Рекомендований час: 3хв\n",
    "```"
   ]
  },
  {
   "cell_type": "code",
   "execution_count": null,
   "metadata": {
    "collapsed": true
   },
   "outputs": [],
   "source": [
    "SELECT maker FROM product\n",
    "WHERE \"type\" = 'Printer'\n",
    "GROUP BY maker"
   ]
  },
  {
   "cell_type": "markdown",
   "metadata": {},
   "source": [
    "### 3. Знайдіть номер моделі, об'єм пам'яті і розміри екранів ПК-блокнотів, ціна яких перевищує 1000 дол.\n",
    "```\n",
    "```\n",
    "Довідка по темі:\n",
    "* [Простий оператор SELECT](http://www.sql-tutorial.ru/ru/book_simple_select_statement/page1.html)\n",
    "```\n",
    "```\n",
    "```\n",
    "```\n",
    "```\n",
    "```\n",
    "```\n",
    "Максимальна оцінка: 1 бал\n",
    "Рекомендований час: 3хв\n",
    "```"
   ]
  },
  {
   "cell_type": "code",
   "execution_count": null,
   "metadata": {
    "collapsed": true
   },
   "outputs": [],
   "source": [
    "SELECT model, ram, screen\n",
    "FROM laptop\n",
    "WHERE price > 1000"
   ]
  },
  {
   "cell_type": "markdown",
   "metadata": {},
   "source": [
    "### 4. Знайдіть всі записи таблиці Printer для кольорових принтерів.\n",
    "```\n",
    "```\n",
    "Довідка по темі:\n",
    "* [Простий оператор SELECT](http://www.sql-tutorial.ru/ru/book_simple_select_statement/page1.html)\n",
    "```\n",
    "```\n",
    "```\n",
    "```\n",
    "```\n",
    "```\n",
    "```\n",
    "Максимальна оцінка: 1 бал\n",
    "Рекомендований час: 3хв\n",
    "```"
   ]
  },
  {
   "cell_type": "code",
   "execution_count": null,
   "metadata": {
    "collapsed": true
   },
   "outputs": [],
   "source": [
    "SELECT *\n",
    "FROM printer\n",
    "WHERE color = 'y'"
   ]
  },
  {
   "cell_type": "markdown",
   "metadata": {},
   "source": [
    "### 5. Знайдіть номер моделі, швидкість і розмір жорсткого диску ПК, що мають 12x або 24x CD і ціну менше, ніж 600 дол.\n",
    "```\n",
    "```\n",
    "Довідка по темі:\n",
    "* [Простий оператор SELECT](http://www.sql-tutorial.ru/ru/book_simple_select_statement/page1.html)\n",
    "* [Предикати (ч.1)](http://www.sql-tutorial.ru/ru/book_predicates_1.html)\n",
    "```\n",
    "```\n",
    "```\n",
    "```\n",
    "```\n",
    "```\n",
    "```\n",
    "Максимальна оцінка: 1 бал\n",
    "Рекомендований час: 3хв\n",
    "```"
   ]
  },
  {
   "cell_type": "code",
   "execution_count": null,
   "metadata": {
    "collapsed": true
   },
   "outputs": [],
   "source": [
    "SELECT model, speed, hd\n",
    "FROM pc\n",
    "WHERE price < 600 AND (cd = '12x' OR cd = '24x')"
   ]
  },
  {
   "cell_type": "markdown",
   "metadata": {},
   "source": [
    "### 6. Для кожного виробника, що випускає ПК-блокноти з об'ємом жорсткого диску не менше 10 Гбайт, знайти швидкості таких ПК-блокнотів. Вивід: виробник, швидкість.\n",
    "```\n",
    "```\n",
    "Довідка по темі:\n",
    "* [Простий оператор SELECT](http://www.sql-tutorial.ru/ru/book_simple_select_statement/page1.html)\n",
    "* [Явні операції з'єднання](http://www.sql-tutorial.ru/ru/book_explicit_join_operations.html)\n",
    "```\n",
    "```\n",
    "```\n",
    "```\n",
    "```\n",
    "```\n",
    "```\n",
    "Максимальна оцінка: 2 бали\n",
    "Рекомендований час: 6хв\n",
    "```"
   ]
  },
  {
   "cell_type": "code",
   "execution_count": null,
   "metadata": {
    "collapsed": true
   },
   "outputs": [],
   "source": [
    "SELECT pr.maker, l.speed\n",
    "FROM product pr INNER JOIN laptop l\n",
    "  ON pr.model = l.model\n",
    "WHERE l.hd >= 10"
   ]
  },
  {
   "cell_type": "markdown",
   "metadata": {
    "collapsed": true
   },
   "source": [
    "### 7. Знайдіть номери моделей і ціни всіх наявних у продажі продуктів (будь-якого типу) виробника B (латинська буква).\n",
    "```\n",
    "```\n",
    "Довідка по темі:\n",
    "* [Об'єднання](http://www.sql-tutorial.ru/ru/book_union.html)\n",
    "* [Явні операції з'єднання](http://www.sql-tutorial.ru/ru/book_explicit_join_operations.html)\n",
    "```\n",
    "```\n",
    "```\n",
    "```\n",
    "```\n",
    "```\n",
    "```\n",
    "Максимальна оцінка: 2 бали\n",
    "Рекомендований час: 6хв\n",
    "```"
   ]
  },
  {
   "cell_type": "code",
   "execution_count": null,
   "metadata": {
    "collapsed": true
   },
   "outputs": [],
   "source": [
    "(SELECT pc.model, pc.price\n",
    "FROM product INNER JOIN pc\n",
    "  ON product.model = pc.model\n",
    "WHERE product.maker = 'B'\n",
    "UNION\n",
    "SELECT l.model, l.price\n",
    "FROM product INNER JOIN laptop l\n",
    "  ON product.model = l.model\n",
    "WHERE product.maker = 'B')\n",
    "UNION\n",
    "SELECT pr.model, pr.price\n",
    "FROM product INNER JOIN printer pr\n",
    "  ON product.model = pr.model\n",
    "WHERE product.maker = 'B'"
   ]
  },
  {
   "cell_type": "markdown",
   "metadata": {},
   "source": [
    "### 8. Знайдіть виробника, що випускає ПК, але не ПК-блокноти.\n",
    "```\n",
    "```\n",
    "Довідка по темі:\n",
    "* [Об'єднання](http://www.sql-tutorial.ru/ru/book_union.html)\n",
    "* [Явні операції з'єднання](http://www.sql-tutorial.ru/ru/book_explicit_join_operations.html)\n",
    "```\n",
    "```\n",
    "```\n",
    "```\n",
    "```\n",
    "```\n",
    "```\n",
    "Максимальна оцінка: 2 бали\n",
    "Рекомендований час: 6хв\n",
    "```"
   ]
  },
  {
   "cell_type": "code",
   "execution_count": null,
   "metadata": {},
   "outputs": [],
   "source": [
    "SELECT pr.maker\n",
    "FROM product pr INNER JOIN pc\n",
    "  ON pr.model = pc.model\n",
    "WHERE pr.maker NOT IN (\n",
    "  SELECT pr2.maker\n",
    "FROM product pr2 INNER JOIN laptop\n",
    "  ON pr2.model = laptop.model\n",
    ")\n",
    "GROUP BY pr.maker"
   ]
  },
  {
   "cell_type": "markdown",
   "metadata": {},
   "source": [
    "### 9. Знайдіть виробників ПК з процесором не менше 450 Мгц. Вивести: Maker.\n",
    "```\n",
    "```\n",
    "Довідка по темі:\n",
    "* [Простий оператор SELECT](http://www.sql-tutorial.ru/ru/book_simple_select_statement/page1.html)\n",
    "* [Явні операції з'єднання](http://www.sql-tutorial.ru/ru/book_explicit_join_operations.html)\n",
    "```\n",
    "```\n",
    "```\n",
    "```\n",
    "```\n",
    "```\n",
    "```\n",
    "Максимальна оцінка: 1 бал\n",
    "Рекомендований час: 3хв\n",
    "```"
   ]
  },
  {
   "cell_type": "code",
   "execution_count": null,
   "metadata": {},
   "outputs": [],
   "source": [
    "SELECT pr.maker\n",
    "FROM product pr INNER JOIN pc\n",
    "  ON pr.model = pc.model\n",
    "WHERE pc.speed >= 450\n",
    "GROUP BY pr.maker"
   ]
  },
  {
   "cell_type": "markdown",
   "metadata": {},
   "source": [
    "### 10. Знайдіть моделі принтерів, що мають найвищу ціну. Вивести: model, price.\n",
    "```\n",
    "```\n",
    "Довідка по темі:\n",
    "* [Підзапити](http://www.sql-tutorial.ru/ru/book_subqueries.html)\n",
    "* [Отримання підсумкових значень](http://www.sql-tutorial.ru/ru/book_getting_summarizing_values.html)\n",
    "```\n",
    "```\n",
    "```\n",
    "```\n",
    "```\n",
    "```\n",
    "```\n",
    "Максимальна оцінка: 1 бали\n",
    "Рекомендований час: 3хв\n",
    "```"
   ]
  },
  {
   "cell_type": "code",
   "execution_count": null,
   "metadata": {
    "collapsed": true
   },
   "outputs": [],
   "source": [
    "SELECT model, price\n",
    "FROM printer\n",
    "WHERE price = (\n",
    "  SELECT max(price)\n",
    "  FROM printer\n",
    ")"
   ]
  },
  {
   "cell_type": "markdown",
   "metadata": {},
   "source": [
    "### 11. Знайдіть середню швидкість ПК.\n",
    "```\n",
    "```\n",
    "Довідка по темі:\n",
    "* [Отримання підсумкових значень](http://www.sql-tutorial.ru/ru/book_getting_summarizing_values.html)\n",
    "```\n",
    "```\n",
    "```\n",
    "```\n",
    "```\n",
    "```\n",
    "```\n",
    "Максимальна оцінка: 1 бал\n",
    "Рекомендований час: 3хв\n",
    "```"
   ]
  },
  {
   "cell_type": "code",
   "execution_count": null,
   "metadata": {
    "collapsed": true
   },
   "outputs": [],
   "source": [
    "SELECT avg(speed)\n",
    "FROM pc"
   ]
  },
  {
   "cell_type": "markdown",
   "metadata": {},
   "source": [
    "### 12. Знайдіть середню швидкість ПК-блокнотів, ціна яких перевищує 1000 дол.\n",
    "```\n",
    "```\n",
    "Довідка по темі:\n",
    "* [Отримання підсумкових значень](http://www.sql-tutorial.ru/ru/book_getting_summarizing_values.html)\n",
    "```\n",
    "```\n",
    "```\n",
    "```\n",
    "```\n",
    "```\n",
    "```\n",
    "Максимальна оцінка: 1 бал\n",
    "Рекомендований час: 3хв\n",
    "```"
   ]
  },
  {
   "cell_type": "code",
   "execution_count": null,
   "metadata": {
    "collapsed": true
   },
   "outputs": [],
   "source": [
    "SELECT avg(speed)\n",
    "FROM laptop\n",
    "WHERE price > 1000"
   ]
  },
  {
   "cell_type": "markdown",
   "metadata": {},
   "source": [
    "### 13. Знайдіть середню швидкість ПК, випущених виробником A.\n",
    "```\n",
    "```\n",
    "Довідка по темі:\n",
    "* [Отримання підсумкових значень](http://www.sql-tutorial.ru/ru/book_getting_summarizing_values.html)\n",
    "* [Явні операції з'єднання](http://www.sql-tutorial.ru/ru/book_explicit_join_operations.html)\n",
    "```\n",
    "```\n",
    "```\n",
    "```\n",
    "```\n",
    "```\n",
    "```\n",
    "Максимальна оцінка: 1 бал\n",
    "Рекомендований час: 3хв\n",
    "```"
   ]
  },
  {
   "cell_type": "code",
   "execution_count": null,
   "metadata": {
    "collapsed": true
   },
   "outputs": [],
   "source": [
    "SELECT avg(speed)\n",
    "FROM pc INNER JOIN product\n",
    "  ON pc.model = product.model\n",
    "WHERE product.maker = 'A'"
   ]
  },
  {
   "cell_type": "markdown",
   "metadata": {},
   "source": [
    "### 14. Знайти виробників, які випускають більше однієї моделі, при цьому всі випущені виробником моделі є продуктами одного типу. Вивести: maker, type.\n",
    "```\n",
    "```\n",
    "Довідка по темі:\n",
    "* [Отримання підсумкових значень](http://www.sql-tutorial.ru/ru/book_getting_summarizing_values.html)\n",
    "* [Конструкція GROUP BY](http://www.sql-tutorial.ru/ru/book_group_by_clause.html)\n",
    "* [Конструкція HAVING](http://www.sql-tutorial.ru/ru/book_having_clause.html)\n",
    "```\n",
    "```\n",
    "```\n",
    "```\n",
    "```\n",
    "```\n",
    "```\n",
    "Максимальна оцінка: 3 бали\n",
    "Рекомендований час: 9хв\n",
    "```"
   ]
  },
  {
   "cell_type": "code",
   "execution_count": null,
   "metadata": {
    "collapsed": true
   },
   "outputs": [],
   "source": [
    "SELECT product.maker, product.type\n",
    "FROM product\n",
    "WHERE product.maker in (\n",
    "  SELECT p.maker\n",
    "  FROM product p\n",
    "  GROUP BY p.maker\n",
    "  HAVING Count(DISTINCT p.type) = 1 AND Count(p.model) > 1\n",
    ")\n",
    "GROUP BY product.maker, product.type"
   ]
  },
  {
   "cell_type": "markdown",
   "metadata": {},
   "source": [
    "### 15. Знайдіть розміри жорстких дисків, які співпадають у двох і більше PC. Вивести: HD.\n",
    "```\n",
    "```\n",
    "Довідка по темі:\n",
    "* [Конструкція GROUP BY](http://www.sql-tutorial.ru/ru/book_group_by_clause.html)\n",
    "* [Конструкція HAVING](http://www.sql-tutorial.ru/ru/book_having_clause.html)\n",
    "```\n",
    "```\n",
    "```\n",
    "```\n",
    "```\n",
    "```\n",
    "```\n",
    "Максимальна оцінка: 1 бал\n",
    "Рекомендований час: 3хв\n",
    "```"
   ]
  },
  {
   "cell_type": "code",
   "execution_count": null,
   "metadata": {
    "collapsed": true
   },
   "outputs": [],
   "source": [
    "SELECT hd\n",
    "FROM pc\n",
    "GROUP BY hd\n",
    "HAVING Count(model) >= 2"
   ]
  },
  {
   "cell_type": "markdown",
   "metadata": {},
   "source": [
    "### 16. Знайдіть пари моделей PC, що мають однакові швидкість і RAM. В результаті кожна пара вказується тільки один раз, тобто (i, j), але не (j, i), Порядок виведення: модель з більшим номером, модель з меншим номером, швидкість і RAM.\n",
    "```\n",
    "```\n",
    "Довідка по темі:\n",
    "* [Використання в запиті декількох джерел записів](http://www.sql-tutorial.ru/ru/book_using_multiple_tables_in_query.html)\n",
    "```\n",
    "```\n",
    "```\n",
    "```\n",
    "```\n",
    "```\n",
    "```\n",
    "Максимальна оцінка: 2 бали\n",
    "Рекомендований час: 6хв\n",
    "```"
   ]
  },
  {
   "cell_type": "code",
   "execution_count": null,
   "metadata": {
    "collapsed": true
   },
   "outputs": [],
   "source": [
    "Выводить модель мне показалось не совсем логично, потому что нескольким лэптопам соответствует одна модель, поэтому вывел код\n",
    "SELECT pc1.code, pc2.code, pc1.speed, pc1.ram\n",
    "FROM pc pc1, pc pc2\n",
    "WHERE (pc1.code > pc2.code AND pc1.speed = pc2.speed AND pc1.ram = pc2.ram)"
   ]
  },
  {
   "cell_type": "markdown",
   "metadata": {},
   "source": [
    "### 17. Знайдіть моделі ПК-блокнотів, швидкість яких менше швидкості будь-якого з ПК. Вивести: type, model, speed.\n",
    "```\n",
    "```\n",
    "Довідка по темі:\n",
    "* [Використання в запиті декількох джерел записів](http://www.sql-tutorial.ru/ru/book_using_multiple_tables_in_query.html)\n",
    "* [Використання ключових слів SOME (ANY) і ALL з предикатами порівняння](http://www.sql-tutorial.ru/ru/book_using_any_all_keywords_with_comparison_predicates.html)\n",
    "```\n",
    "```\n",
    "```\n",
    "```\n",
    "```\n",
    "```\n",
    "```\n",
    "Максимальна оцінка: 2 бали\n",
    "Рекомендований час: 6хв\n",
    "```"
   ]
  },
  {
   "cell_type": "code",
   "execution_count": null,
   "metadata": {
    "collapsed": true
   },
   "outputs": [],
   "source": [
    "Тут тоже было бы логичнее вывести модель и код, но вывел, как в задании\n",
    "SELECT type, l.model, l.speed\n",
    "FROM laptop l INNER JOIN product ON l.model = product.model\n",
    "WHERE l.speed < ANY(\n",
    "  SELECT speed"
   ]
  },
  {
   "cell_type": "markdown",
   "metadata": {},
   "source": [
    "### 18. Знайдіть виробників найдешевших кольорових принтерів. Вивести: maker, price.\n",
    "```\n",
    "```\n",
    "Довідка по темі:\n",
    "* [Явні операції з'єднання](http://www.sql-tutorial.ru/ru/book_explicit_join_operations.html)\n",
    "* [Отримання підсумкових значень](http://www.sql-tutorial.ru/ru/book_getting_summarizing_values.html)\n",
    "* [Підзапити](http://www.sql-tutorial.ru/ru/book_subqueries.html)\n",
    "```\n",
    "```\n",
    "```\n",
    "```\n",
    "```\n",
    "```\n",
    "```\n",
    "Максимальна оцінка: 2 бали\n",
    "Рекомендований час: 6хв\n",
    "```"
   ]
  },
  {
   "cell_type": "code",
   "execution_count": null,
   "metadata": {
    "collapsed": true
   },
   "outputs": [],
   "source": [
    "SELECT maker\n",
    "FROM product p INNER JOIN printer pr ON p.model = pr.model\n",
    "WHERE pr.color = 'y' AND pr.price = (\n",
    "  SELECT min(price)\n",
    "  FROM printer\n",
    "  WHERE printer.color = 'y'\n",
    ")\n",
    "GROUP BY maker"
   ]
  },
  {
   "cell_type": "markdown",
   "metadata": {},
   "source": [
    "### 19. Для кожного виробника, що має моделі в таблиці Laptop, знайдіть середній розмір екрану ПК-блокнотів, які випускаються кожним з таких виробників. Вивести: maker, середній розмір екрану.\n",
    "```\n",
    "```\n",
    "Довідка по темі:\n",
    "* [Конструкція GROUP BY](http://www.sql-tutorial.ru/ru/book_group_by_clause.html)\n",
    "* [Явні операції з'єднання](http://www.sql-tutorial.ru/ru/book_explicit_join_operations.html)\n",
    "```\n",
    "```\n",
    "```\n",
    "```\n",
    "```\n",
    "```\n",
    "```\n",
    "Максимальна оцінка: 1 бали\n",
    "Рекомендований час: 3хв\n",
    "```"
   ]
  },
  {
   "cell_type": "code",
   "execution_count": null,
   "metadata": {
    "collapsed": true
   },
   "outputs": [],
   "source": [
    "SELECT p.maker, avg(l.screen)\n",
    "FROM product p INNER join laptop l ON p.model = l.model\n",
    "GROUP BY p.maker"
   ]
  },
  {
   "cell_type": "markdown",
   "metadata": {},
   "source": [
    "### 20. Знайти округлене до сотих часток середнє арифметичне наступних цін:\n",
    "1. Ціна найдешевших Laptop-ів від виробників РС з найнижчою швидкістю CD;\n",
    "2. Ціна найдорожчих РС від виробників найдешевших принтерів;\n",
    "3. Ціна найдорожчих принтерів від виробників Laptop-ів з найбільшим обсягом пам'яті.\n",
    "Зауваження: При розрахунку середнього відсутні ціни не враховувати.\n",
    "\n",
    "\n",
    "  · Довідка по темі:\n",
    "     Явні операції з'єднання\n",
    "     предикат IN\n",
    "     Отримання підсумкових значень\n",
    "     підзапити\n",
    "     Використання ключових слів ANY, ALL з предикатами порівняння\n",
    "```\n",
    "```\n",
    "Довідка по темі:\n",
    "* [Явні операції з'єднання](http://www.sql-tutorial.ru/ru/book_explicit_join_operations.html)\n",
    "* [Предикат IN](http://www.sql-tutorial.ru/ru/book_predicate_in.html)\n",
    "* [Отримання підсумкових значень](http://www.sql-tutorial.ru/ru/book_getting_summarizing_values.html)\n",
    "* [Підзапити](http://www.sql-tutorial.ru/ru/book_subqueries.html)\n",
    "* [Використання ключових слів SOME (ANY) і ALL з предикатами порівняння](http://www.sql-tutorial.ru/ru/book_using_any_all_keywords_with_comparison_predicates.html)\n",
    "```\n",
    "```\n",
    "```\n",
    "```\n",
    "```\n",
    "```\n",
    "```\n",
    "Максимальна оцінка: 5 балів\n",
    "Рекомендований час: 15хв\n",
    "```"
   ]
  },
  {
   "cell_type": "markdown",
   "metadata": {
    "collapsed": true
   },
   "source": [
    "## NoSQL"
   ]
  },
  {
   "cell_type": "markdown",
   "metadata": {},
   "source": [
    "##### Відповідь до кожного завдання у цьому розділі записувати в наступну пусту строку в форматі MongoDB NoSQL запиту. Тобто: \n",
    "```\n",
    "db.[collection_name].[action](query_params, ..).\n",
    "```"
   ]
  },
  {
   "cell_type": "markdown",
   "metadata": {},
   "source": [
    "Структура документу в колекції restaurants:\n",
    "```\n",
    "{\n",
    "  \"address\": {\n",
    "     \"building\": \"1007\",\n",
    "     \"coord\": [ -73.856077, 40.848447 ],\n",
    "     \"street\": \"Morris Park Ave\",\n",
    "     \"zipcode\": \"10462\"\n",
    "  },\n",
    "  \"borough\": \"Bronx\",\n",
    "  \"cuisine\": \"Bakery\",\n",
    "  \"grades\": [\n",
    "     { \"date\": { \"$date\": 1393804800000 }, \"grade\": \"A\", \"score\": 2 },\n",
    "     { \"date\": { \"$date\": 1378857600000 }, \"grade\": \"A\", \"score\": 6 },\n",
    "     { \"date\": { \"$date\": 1358985600000 }, \"grade\": \"A\", \"score\": 10 },\n",
    "     { \"date\": { \"$date\": 1322006400000 }, \"grade\": \"A\", \"score\": 9 },\n",
    "     { \"date\": { \"$date\": 1299715200000 }, \"grade\": \"B\", \"score\": 14 }\n",
    "  ],\n",
    "  \"name\": \"Morris Park Bake Shop\",\n",
    "  \"restaurant_id\": \"30075445\"\n",
    "}\n",
    "```\n",
    "\n",
    "**Дамп: [restaurants.json](https://github.com/dataroot/DRU-DS100-w3/tree/master/tests/3/v1/restaurants.json)**.\n",
    "\n",
    "Приклад:\n",
    "```\n",
    "Питання:\n",
    "Напишіть запит MongoDB, щоб відобразити всі документи в колекції restaurants.\n",
    "```\n",
    "```\n",
    "Відповідь:\n",
    "db.restaurants.find();\n",
    "```"
   ]
  },
  {
   "cell_type": "markdown",
   "metadata": {
    "collapsed": true
   },
   "source": [
    "### 21. Напишіть запит MongoDB, щоб відобразити поля restaurant_id, name, borough та cuisine, але виключіть поле _id для всіх документів в колекції restaurants.\n",
    "```\n",
    "```\n",
    "```\n",
    "```\n",
    "```\n",
    "```\n",
    "```\n",
    "Максимальна оцінка: 1 бал\n",
    "Рекомендований час: 3хв\n",
    "```"
   ]
  },
  {
   "cell_type": "code",
   "execution_count": null,
   "metadata": {
    "collapsed": true
   },
   "outputs": [],
   "source": []
  },
  {
   "cell_type": "markdown",
   "metadata": {},
   "source": [
    "### 22. Напишіть запит MongoDB, щоб знайти ресторани, які досягли балів, більше 80, але менше 100.\n",
    "```\n",
    "```\n",
    "```\n",
    "```\n",
    "```\n",
    "```\n",
    "```\n",
    "Максимальна оцінка: 2 бали\n",
    "Рекомендований час: 6хв\n",
    "```"
   ]
  },
  {
   "cell_type": "code",
   "execution_count": null,
   "metadata": {
    "collapsed": true
   },
   "outputs": [],
   "source": []
  },
  {
   "cell_type": "markdown",
   "metadata": {},
   "source": [
    "### 23. Напишіть запит MongoDB, щоб знайти ресторани, що належать до району Bronx, та готують американську або китайську страви.\n",
    "```\n",
    "```\n",
    "```\n",
    "```\n",
    "```\n",
    "```\n",
    "```\n",
    "Максимальна оцінка: 2 бали\n",
    "Рекомендований час: 6хв\n",
    "```"
   ]
  },
  {
   "cell_type": "code",
   "execution_count": null,
   "metadata": {
    "collapsed": true
   },
   "outputs": [],
   "source": []
  },
  {
   "cell_type": "markdown",
   "metadata": {},
   "source": [
    "### 24. Наведіть приклад корисного aggregate запиту для колекції restaurants та поясніть його.\n",
    "```\n",
    "```\n",
    "```\n",
    "```\n",
    "```\n",
    "```\n",
    "```\n",
    "Максимальна оцінка: 6 балів\n",
    "Рекомендований час: 10хв\n",
    "```"
   ]
  },
  {
   "cell_type": "code",
   "execution_count": null,
   "metadata": {
    "collapsed": true
   },
   "outputs": [],
   "source": []
  }
 ],
 "metadata": {
  "kernelspec": {
   "display_name": "Python 3",
   "language": "python",
   "name": "python3"
  },
  "language_info": {
   "codemirror_mode": {
    "name": "ipython",
    "version": 3
   },
   "file_extension": ".py",
   "mimetype": "text/x-python",
   "name": "python",
   "nbconvert_exporter": "python",
   "pygments_lexer": "ipython3",
   "version": "3.6.2"
  }
 },
 "nbformat": 4,
 "nbformat_minor": 2
}
